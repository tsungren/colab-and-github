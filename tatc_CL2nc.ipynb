{
 "cells": [
  {
   "cell_type": "code",
   "execution_count": 1,
   "metadata": {},
   "outputs": [],
   "source": [
    "import numpy as np\n",
    "import matplotlib.pyplot as plt\n",
    "import sympy as sp\n",
    "import math as m\n",
    "from sympy.abc import a, c, x, y, z\n",
    "Docx, Docy, Docz, Dcax, Dcay, Dcaz = sp.symbols('Docx, Docy, Docz, Dcax, Dcay, Dcaz')"
   ]
  },
  {
   "cell_type": "code",
   "execution_count": 2,
   "metadata": {},
   "outputs": [],
   "source": [
    "A = sp.Matrix([[1, 0, 0, Docx + Dcax],\n",
    "               [0, 1, 0, Docy + Dcay],\n",
    "               [0, 0, 1, Docz + Dcaz],\n",
    "               [0, 0, 0, 1]])\n",
    "\n",
    "B = sp.Matrix([[1,0, 0, 0],\n",
    "               [0, sp.cos(-a), -sp.sin(-a), 0],\n",
    "               [0, sp.sin(-a), sp.cos(-a), 0],\n",
    "               [0, 0, 0, 1]]) #A軸旋轉矩陣\n",
    "\n",
    "C = sp.Matrix([[1, 0, 0, -Dcax],\n",
    "               [0, 1, 0, -Dcay],\n",
    "               [0, 0, 1, -Dcaz],\n",
    "               [0, 0, 0, 1]])\n",
    "\n",
    "D = sp.Matrix([[sp.cos(-c), -sp.sin(-c), 0, 0],\n",
    "               [sp.sin(-c), sp.cos(-c), 0, 0],\n",
    "               [0, 0, 1, 0],\n",
    "               [0, 0, 0, 1]]) #C軸旋轉矩陣\n",
    "\n",
    "E = sp.Matrix([[1, 0, 0, -Docx],\n",
    "               [0, 1, 0, -Docy],\n",
    "               [0, 0, 1, -Docz],\n",
    "               [0, 0, 0, 1]])\n",
    "\n",
    "V = sp.Matrix([x, y, z, 1])\n",
    "\n",
    "A_inv= A.inv()"
   ]
  },
  {
   "cell_type": "code",
   "execution_count": 3,
   "metadata": {},
   "outputs": [
    {
     "data": {
      "text/latex": [
       "$\\displaystyle \\left[\\begin{matrix}1 & 0 & 0 & - Dcax - Docx\\\\0 & 1 & 0 & - Dcay - Docy\\\\0 & 0 & 1 & - Dcaz - Docz\\\\0 & 0 & 0 & 1\\end{matrix}\\right]$"
      ],
      "text/plain": [
       "Matrix([\n",
       "[1, 0, 0, -Dcax - Docx],\n",
       "[0, 1, 0, -Dcay - Docy],\n",
       "[0, 0, 1, -Dcaz - Docz],\n",
       "[0, 0, 0,            1]])"
      ]
     },
     "execution_count": 3,
     "metadata": {},
     "output_type": "execute_result"
    }
   ],
   "source": [
    "A_inv"
   ]
  },
  {
   "cell_type": "code",
   "execution_count": 4,
   "metadata": {},
   "outputs": [],
   "source": [
    "U_inv = E.inv()*D.inv()*C.inv()*B.inv()*A.inv()*V"
   ]
  },
  {
   "cell_type": "code",
   "execution_count": 5,
   "metadata": {},
   "outputs": [
    {
     "data": {
      "text/latex": [
       "$\\displaystyle \\left[\\begin{matrix}\\frac{Dcax \\left(1 - \\sin^{2}{\\left(c \\right)}\\right)}{\\cos{\\left(c \\right)}} - Dcay \\sin{\\left(c \\right)} + Docx + \\frac{x \\left(1 - \\sin^{2}{\\left(c \\right)}\\right)}{\\cos{\\left(c \\right)}} - \\frac{y \\left(1 - \\sin^{2}{\\left(a \\right)}\\right) \\sin{\\left(c \\right)}}{\\cos{\\left(a \\right)}} + z \\sin{\\left(a \\right)} \\sin{\\left(c \\right)} - \\frac{\\left(1 - \\sin^{2}{\\left(a \\right)}\\right) \\left(- Dcay - Docy\\right) \\sin{\\left(c \\right)}}{\\cos{\\left(a \\right)}} + \\frac{\\left(1 - \\sin^{2}{\\left(c \\right)}\\right) \\left(- Dcax - Docx\\right)}{\\cos{\\left(c \\right)}} + \\left(- Dcaz - Docz\\right) \\sin{\\left(a \\right)} \\sin{\\left(c \\right)}\\\\Dcax \\sin{\\left(c \\right)} + Dcay \\cos{\\left(c \\right)} + Docy + x \\sin{\\left(c \\right)} + \\frac{y \\left(1 - \\sin^{2}{\\left(a \\right)}\\right) \\cos{\\left(c \\right)}}{\\cos{\\left(a \\right)}} - z \\sin{\\left(a \\right)} \\cos{\\left(c \\right)} + \\frac{\\left(1 - \\sin^{2}{\\left(a \\right)}\\right) \\left(- Dcay - Docy\\right) \\cos{\\left(c \\right)}}{\\cos{\\left(a \\right)}} + \\left(- Dcax - Docx\\right) \\sin{\\left(c \\right)} - \\left(- Dcaz - Docz\\right) \\sin{\\left(a \\right)} \\cos{\\left(c \\right)}\\\\Dcaz + Docz + y \\sin{\\left(a \\right)} + z \\cos{\\left(a \\right)} + \\left(- Dcay - Docy\\right) \\sin{\\left(a \\right)} + \\left(- Dcaz - Docz\\right) \\cos{\\left(a \\right)}\\\\1\\end{matrix}\\right]$"
      ],
      "text/plain": [
       "Matrix([\n",
       "[Dcax*(1 - sin(c)**2)/cos(c) - Dcay*sin(c) + Docx + x*(1 - sin(c)**2)/cos(c) - y*(1 - sin(a)**2)*sin(c)/cos(a) + z*sin(a)*sin(c) - (1 - sin(a)**2)*(-Dcay - Docy)*sin(c)/cos(a) + (1 - sin(c)**2)*(-Dcax - Docx)/cos(c) + (-Dcaz - Docz)*sin(a)*sin(c)],\n",
       "[                                                Dcax*sin(c) + Dcay*cos(c) + Docy + x*sin(c) + y*(1 - sin(a)**2)*cos(c)/cos(a) - z*sin(a)*cos(c) + (1 - sin(a)**2)*(-Dcay - Docy)*cos(c)/cos(a) + (-Dcax - Docx)*sin(c) - (-Dcaz - Docz)*sin(a)*cos(c)],\n",
       "[                                                                                                                                                                    Dcaz + Docz + y*sin(a) + z*cos(a) + (-Dcay - Docy)*sin(a) + (-Dcaz - Docz)*cos(a)],\n",
       "[                                                                                                                                                                                                                                                    1]])"
      ]
     },
     "execution_count": 5,
     "metadata": {},
     "output_type": "execute_result"
    }
   ],
   "source": [
    "U_inv"
   ]
  },
  {
   "cell_type": "code",
   "execution_count": 11,
   "metadata": {},
   "outputs": [],
   "source": [
    "U_invs = sp.simplify(E.inv()*D.inv()*C.inv()*B.inv()*A.inv()*V)"
   ]
  },
  {
   "cell_type": "code",
   "execution_count": 12,
   "metadata": {},
   "outputs": [
    {
     "data": {
      "text/latex": [
       "$\\displaystyle \\left[\\begin{matrix}Dcay \\sin{\\left(c \\right)} \\cos{\\left(a \\right)} - Dcay \\sin{\\left(c \\right)} - Dcaz \\sin{\\left(a \\right)} \\sin{\\left(c \\right)} - Docx \\cos{\\left(c \\right)} + Docx + Docy \\sin{\\left(c \\right)} \\cos{\\left(a \\right)} - Docz \\sin{\\left(a \\right)} \\sin{\\left(c \\right)} + x \\cos{\\left(c \\right)} - y \\sin{\\left(c \\right)} \\cos{\\left(a \\right)} + z \\sin{\\left(a \\right)} \\sin{\\left(c \\right)}\\\\- Dcay \\cos{\\left(a \\right)} \\cos{\\left(c \\right)} + Dcay \\cos{\\left(c \\right)} + Dcaz \\sin{\\left(a \\right)} \\cos{\\left(c \\right)} - Docx \\sin{\\left(c \\right)} - Docy \\cos{\\left(a \\right)} \\cos{\\left(c \\right)} + Docy + Docz \\sin{\\left(a \\right)} \\cos{\\left(c \\right)} + x \\sin{\\left(c \\right)} + y \\cos{\\left(a \\right)} \\cos{\\left(c \\right)} - z \\sin{\\left(a \\right)} \\cos{\\left(c \\right)}\\\\Dcaz + Docz + y \\sin{\\left(a \\right)} + z \\cos{\\left(a \\right)} - \\left(Dcay + Docy\\right) \\sin{\\left(a \\right)} - \\left(Dcaz + Docz\\right) \\cos{\\left(a \\right)}\\\\1\\end{matrix}\\right]$"
      ],
      "text/plain": [
       "Matrix([\n",
       "[ Dcay*sin(c)*cos(a) - Dcay*sin(c) - Dcaz*sin(a)*sin(c) - Docx*cos(c) + Docx + Docy*sin(c)*cos(a) - Docz*sin(a)*sin(c) + x*cos(c) - y*sin(c)*cos(a) + z*sin(a)*sin(c)],\n",
       "[-Dcay*cos(a)*cos(c) + Dcay*cos(c) + Dcaz*sin(a)*cos(c) - Docx*sin(c) - Docy*cos(a)*cos(c) + Docy + Docz*sin(a)*cos(c) + x*sin(c) + y*cos(a)*cos(c) - z*sin(a)*cos(c)],\n",
       "[                                                                                     Dcaz + Docz + y*sin(a) + z*cos(a) - (Dcay + Docy)*sin(a) - (Dcaz + Docz)*cos(a)],\n",
       "[                                                                                                                                                                   1]])"
      ]
     },
     "execution_count": 12,
     "metadata": {},
     "output_type": "execute_result"
    }
   ],
   "source": [
    "U_invs"
   ]
  },
  {
   "cell_type": "code",
   "execution_count": 13,
   "metadata": {},
   "outputs": [],
   "source": [
    "cl2nc1 = U_invs.subs({x:-3.045506, y:5.400162, z:43.041412, Docx:0, Docy:0, Docz:0, Dcax:0, Dcay:0, Dcaz:0, a:-29.060*3.1415926/180, c:47.685*3.1415926/180})\n",
    "cl2nc2 = U_invs.subs({x:2.743106, y:5.12265, z:32.128396, Docx:0, Docy:0, Docz:0, Dcax:0, Dcay:0, Dcaz:0, a:-43.008*3.1415926/180, c:-119.436*3.1415926/180})\n",
    "#U_invs有化簡"
   ]
  },
  {
   "cell_type": "code",
   "execution_count": 18,
   "metadata": {},
   "outputs": [
    {
     "data": {
      "text/latex": [
       "$\\displaystyle \\left[\\begin{matrix}21.0000004042886\\\\-14.9999994755172\\\\20.0000000459229\\\\1\\end{matrix}\\right]$"
      ],
      "text/plain": [
       "Matrix([\n",
       "[ 21.0000004042886],\n",
       "[-14.9999994755172],\n",
       "[ 20.0000000459229],\n",
       "[                1]])"
      ]
     },
     "execution_count": 18,
     "metadata": {},
     "output_type": "execute_result"
    }
   ],
   "source": [
    "cl2nc2"
   ]
  },
  {
   "cell_type": "code",
   "execution_count": 19,
   "metadata": {},
   "outputs": [
    {
     "data": {
      "text/plain": [
       "4"
      ]
     },
     "execution_count": 19,
     "metadata": {},
     "output_type": "execute_result"
    }
   ],
   "source": [
    "len(cl2nc2)"
   ]
  },
  {
   "cell_type": "code",
   "execution_count": null,
   "metadata": {},
   "outputs": [],
   "source": []
  }
 ],
 "metadata": {
  "kernelspec": {
   "display_name": "Python 3",
   "language": "python",
   "name": "python3"
  },
  "language_info": {
   "codemirror_mode": {
    "name": "ipython",
    "version": 3
   },
   "file_extension": ".py",
   "mimetype": "text/x-python",
   "name": "python",
   "nbconvert_exporter": "python",
   "pygments_lexer": "ipython3",
   "version": "3.7.3"
  }
 },
 "nbformat": 4,
 "nbformat_minor": 2
}
