{
 "cells": [
  {
   "cell_type": "code",
   "execution_count": 1,
   "metadata": {
    "colab": {},
    "colab_type": "code",
    "executionInfo": {
     "elapsed": 2156,
     "status": "ok",
     "timestamp": 1595937430691,
     "user": {
      "displayName": "大安機械科洪宗仁",
      "photoUrl": "https://lh3.googleusercontent.com/a-/AOh14GjlXP26A88jSQZUvZk0LWr5qbYgEQ7kV0AeIV8i=s64",
      "userId": "04616925285202763241"
     },
     "user_tz": -480
    },
    "id": "UIB2yu-nSCre"
   },
   "outputs": [],
   "source": [
    "import numpy as np\n",
    "import matplotlib.pyplot as plt\n",
    "import sympy as sp\n",
    "import math as m\n",
    "from sympy.abc import a, c, x, y, z\n",
    "Docx, Docy, Docz, Dcax, Dcay, Dcaz = sp.symbols('Docx, Docy, Docz, Dcax, Dcay, Dcaz')"
   ]
  },
  {
   "cell_type": "code",
   "execution_count": 2,
   "metadata": {
    "colab": {},
    "colab_type": "code",
    "executionInfo": {
     "elapsed": 1471,
     "status": "ok",
     "timestamp": 1595937440203,
     "user": {
      "displayName": "大安機械科洪宗仁",
      "photoUrl": "https://lh3.googleusercontent.com/a-/AOh14GjlXP26A88jSQZUvZk0LWr5qbYgEQ7kV0AeIV8i=s64",
      "userId": "04616925285202763241"
     },
     "user_tz": -480
    },
    "id": "l3ewlVtDSCri"
   },
   "outputs": [],
   "source": [
    "'''\n",
    "RoC = sp.Matrix([[sp.cos(c), -sp.sin(c), 0],\n",
    "                 [sp.sin(c), sp.cos(c), 0],\n",
    "                 [0, 0, 1]])\n",
    "RoA = sp.Matrix([[1,0, 0],\n",
    "                 [0, sp.cos(a), -sp.sin(a)],\n",
    "                 [0, sp.sin(a), sp.cos(a)]])\n",
    "'''\n",
    "\n",
    "toolvec = ([2, 5, 9])\n",
    "i = toolvec[0]/(m.sqrt(toolvec[0]**2+toolvec[1]**2+toolvec[2]**2))\n",
    "j = toolvec[1]/(m.sqrt(toolvec[0]**2+toolvec[1]**2+toolvec[2]**2))\n",
    "k = toolvec[2]/(m.sqrt(toolvec[0]**2+toolvec[1]**2+toolvec[2]**2))\n",
    "\n",
    "radA1 = m.acos(k) #A角第1解的弳度值\n",
    "radA2 = -m.acos(k) #A角第2解的弳度值\n",
    "\n",
    "radC1 = m.atan2(i/m.sin(radA1), -j/m.sin(radA1)) #C角第1解的弳度值\n",
    "radC2 = m.atan2(i/m.sin(radA2), -j/m.sin(radA2)) #C角第2解的弳度值\n",
    "\n",
    "#from sympy.abc import a, c, x, y, z\n",
    "#Docx, Docy, Docz, Dcax, Dcay, Dcaz = sp.symbols('Docx, Docy, Docz, Dcax, Dcay, Dcaz')\n",
    "\n",
    "A = sp.Matrix([[1, 0, 0, Docx + Dcax],\n",
    "               [0, 1, 0, Docy + Dcay],\n",
    "               [0, 0, 1, Docz + Dcaz],\n",
    "               [0, 0, 0, 1]])\n",
    "\n",
    "B = sp.Matrix([[1,0, 0, 0],\n",
    "               [0, sp.cos(-a), -sp.sin(-a), 0],\n",
    "               [0, sp.sin(-a), sp.cos(-a), 0],\n",
    "               [0, 0, 0, 1]]) #A軸旋轉矩陣\n",
    "\n",
    "C = sp.Matrix([[1, 0, 0, -Dcax],\n",
    "               [0, 1, 0, -Dcay],\n",
    "               [0, 0, 1, -Dcaz],\n",
    "               [0, 0, 0, 1]])\n",
    "\n",
    "D = sp.Matrix([[sp.cos(-c), -sp.sin(-c), 0, 0],\n",
    "               [sp.sin(-c), sp.cos(-c), 0, 0],\n",
    "               [0, 0, 1, 0],\n",
    "               [0, 0, 0, 1]]) #C軸旋轉矩陣\n",
    "\n",
    "E = sp.Matrix([[1, 0, 0, -Docx],\n",
    "               [0, 1, 0, -Docy],\n",
    "               [0, 0, 1, -Docz],\n",
    "               [0, 0, 0, 1]])\n",
    "\n",
    "V = sp.Matrix([x, y, z, 1])"
   ]
  },
  {
   "cell_type": "code",
   "execution_count": 3,
   "metadata": {
    "colab": {},
    "colab_type": "code",
    "executionInfo": {
     "elapsed": 695,
     "status": "ok",
     "timestamp": 1595937449801,
     "user": {
      "displayName": "大安機械科洪宗仁",
      "photoUrl": "https://lh3.googleusercontent.com/a-/AOh14GjlXP26A88jSQZUvZk0LWr5qbYgEQ7kV0AeIV8i=s64",
      "userId": "04616925285202763241"
     },
     "user_tz": -480
    },
    "id": "tRsiZMkZSCrm",
    "scrolled": false
   },
   "outputs": [],
   "source": [
    "U = A*B*C*D*E*V"
   ]
  },
  {
   "cell_type": "code",
   "execution_count": 4,
   "metadata": {
    "colab": {
     "base_uri": "https://localhost:8080/",
     "height": 99
    },
    "colab_type": "code",
    "executionInfo": {
     "elapsed": 673,
     "status": "ok",
     "timestamp": 1595937451712,
     "user": {
      "displayName": "大安機械科洪宗仁",
      "photoUrl": "https://lh3.googleusercontent.com/a-/AOh14GjlXP26A88jSQZUvZk0LWr5qbYgEQ7kV0AeIV8i=s64",
      "userId": "04616925285202763241"
     },
     "user_tz": -480
    },
    "id": "RTGvN7MmSCrp",
    "outputId": "962aa332-3dab-4a4c-8623-c893035e72ce",
    "scrolled": true
   },
   "outputs": [
    {
     "data": {
      "text/latex": [
       "$\\displaystyle \\left[\\begin{matrix}- Docx \\cos{\\left(c \\right)} + Docx - Docy \\sin{\\left(c \\right)} + x \\cos{\\left(c \\right)} + y \\sin{\\left(c \\right)}\\\\- Dcay \\cos{\\left(a \\right)} + Dcay - Dcaz \\sin{\\left(a \\right)} + Docx \\sin{\\left(c \\right)} \\cos{\\left(a \\right)} - Docy \\cos{\\left(a \\right)} \\cos{\\left(c \\right)} + Docy - Docz \\sin{\\left(a \\right)} - x \\sin{\\left(c \\right)} \\cos{\\left(a \\right)} + y \\cos{\\left(a \\right)} \\cos{\\left(c \\right)} + z \\sin{\\left(a \\right)}\\\\Dcay \\sin{\\left(a \\right)} - Dcaz \\cos{\\left(a \\right)} + Dcaz - Docx \\sin{\\left(a \\right)} \\sin{\\left(c \\right)} + Docy \\sin{\\left(a \\right)} \\cos{\\left(c \\right)} - Docz \\cos{\\left(a \\right)} + Docz + x \\sin{\\left(a \\right)} \\sin{\\left(c \\right)} - y \\sin{\\left(a \\right)} \\cos{\\left(c \\right)} + z \\cos{\\left(a \\right)}\\\\1\\end{matrix}\\right]$"
      ],
      "text/plain": [
       "Matrix([\n",
       "[                                                                                        -Docx*cos(c) + Docx - Docy*sin(c) + x*cos(c) + y*sin(c)],\n",
       "[-Dcay*cos(a) + Dcay - Dcaz*sin(a) + Docx*sin(c)*cos(a) - Docy*cos(a)*cos(c) + Docy - Docz*sin(a) - x*sin(c)*cos(a) + y*cos(a)*cos(c) + z*sin(a)],\n",
       "[ Dcay*sin(a) - Dcaz*cos(a) + Dcaz - Docx*sin(a)*sin(c) + Docy*sin(a)*cos(c) - Docz*cos(a) + Docz + x*sin(a)*sin(c) - y*sin(a)*cos(c) + z*cos(a)],\n",
       "[                                                                                                                                              1]])"
      ]
     },
     "execution_count": 4,
     "metadata": {},
     "output_type": "execute_result"
    }
   ],
   "source": [
    "U"
   ]
  },
  {
   "cell_type": "code",
   "execution_count": 5,
   "metadata": {
    "colab": {},
    "colab_type": "code",
    "executionInfo": {
     "elapsed": 722,
     "status": "ok",
     "timestamp": 1595937461818,
     "user": {
      "displayName": "大安機械科洪宗仁",
      "photoUrl": "https://lh3.googleusercontent.com/a-/AOh14GjlXP26A88jSQZUvZk0LWr5qbYgEQ7kV0AeIV8i=s64",
      "userId": "04616925285202763241"
     },
     "user_tz": -480
    },
    "id": "B_aROwZiSCrt"
   },
   "outputs": [],
   "source": [
    "point01=U.subs({x:50, y:35, z:25, Docx:5, Docy:10, Docz:20, Dcax:-10, Dcay:-5, Dcaz:-15, a:radA1, c:radC1})\n",
    "point02=U.subs({x:50, y:35, z:25, Docx:5, Docy:10, Docz:20, Dcax:-10, Dcay:-5, Dcaz:-15, a:radA2, c:radC2})"
   ]
  },
  {
   "cell_type": "code",
   "execution_count": 6,
   "metadata": {
    "colab": {},
    "colab_type": "code",
    "executionInfo": {
     "elapsed": 743,
     "status": "ok",
     "timestamp": 1595937464280,
     "user": {
      "displayName": "大安機械科洪宗仁",
      "photoUrl": "https://lh3.googleusercontent.com/a-/AOh14GjlXP26A88jSQZUvZk0LWr5qbYgEQ7kV0AeIV8i=s64",
      "userId": "04616925285202763241"
     },
     "user_tz": -480
    },
    "id": "TqPmyELySCrw"
   },
   "outputs": [
    {
     "data": {
      "text/latex": [
       "$\\displaystyle \\left[\\begin{matrix}-27.4966841809841\\\\-14.7001754505016\\\\40.0944956849385\\\\1\\end{matrix}\\right]$"
      ],
      "text/plain": [
       "Matrix([\n",
       "[-27.4966841809841],\n",
       "[-14.7001754505016],\n",
       "[ 40.0944956849385],\n",
       "[                1]])"
      ]
     },
     "execution_count": 6,
     "metadata": {},
     "output_type": "execute_result"
    }
   ],
   "source": [
    "point01"
   ]
  },
  {
   "cell_type": "code",
   "execution_count": 7,
   "metadata": {
    "colab": {
     "base_uri": "https://localhost:8080/",
     "height": 166
    },
    "colab_type": "code",
    "executionInfo": {
     "elapsed": 748,
     "status": "ok",
     "timestamp": 1595937466051,
     "user": {
      "displayName": "大安機械科洪宗仁",
      "photoUrl": "https://lh3.googleusercontent.com/a-/AOh14GjlXP26A88jSQZUvZk0LWr5qbYgEQ7kV0AeIV8i=s64",
      "userId": "04616925285202763241"
     },
     "user_tz": -480
    },
    "id": "-lvnu2Q2SCrz",
    "outputId": "db287fb9-5b30-4dbe-b439-66f338cfe03d"
   },
   "outputs": [
    {
     "data": {
      "text/latex": [
       "$\\displaystyle \\left[\\begin{matrix}37.4966841809841\\\\33.281338753712\\\\45.2290488654632\\\\1\\end{matrix}\\right]$"
      ],
      "text/plain": [
       "Matrix([\n",
       "[37.4966841809841],\n",
       "[ 33.281338753712],\n",
       "[45.2290488654632],\n",
       "[               1]])"
      ]
     },
     "execution_count": 7,
     "metadata": {},
     "output_type": "execute_result"
    }
   ],
   "source": [
    "point02"
   ]
  },
  {
   "cell_type": "code",
   "execution_count": 8,
   "metadata": {},
   "outputs": [
    {
     "data": {
      "text/plain": [
       "(0.5392065932594519,\n",
       " 2.761086276477428,\n",
       " -0.5392065932594519,\n",
       " -0.3805063771123649)"
      ]
     },
     "execution_count": 8,
     "metadata": {},
     "output_type": "execute_result"
    }
   ],
   "source": [
    "radA1, radC1, radA2, radC2"
   ]
  },
  {
   "cell_type": "code",
   "execution_count": 9,
   "metadata": {},
   "outputs": [
    {
     "data": {
      "text/plain": [
       "(30.894262079393815,\n",
       " 158.19859051364818,\n",
       " -30.894262079393815,\n",
       " -21.80140948635181)"
      ]
     },
     "execution_count": 9,
     "metadata": {},
     "output_type": "execute_result"
    }
   ],
   "source": [
    "m.degrees(radA1), m.degrees(radC1), m.degrees(radA2), m.degrees(radC2) "
   ]
  },
  {
   "cell_type": "code",
   "execution_count": 10,
   "metadata": {},
   "outputs": [
    {
     "data": {
      "text/plain": [
       "(0.19069251784911848, 0.4767312946227962, 0.8581163303210331)"
      ]
     },
     "execution_count": 10,
     "metadata": {},
     "output_type": "execute_result"
    }
   ],
   "source": [
    "i, j, k"
   ]
  },
  {
   "cell_type": "code",
   "execution_count": 27,
   "metadata": {},
   "outputs": [
    {
     "name": "stdout",
     "output_type": "stream",
     "text": [
      "[-27.4966841809841, -14.7001754505016, 40.0944956849385]\n",
      "[37.4966841809841, 33.2813387537120, 45.2290488654632]\n"
     ]
    }
   ],
   "source": [
    "answer1 = []\n",
    "answer2 = []\n",
    "for i in range (0,len(point01)-1):\n",
    "    answer1.append(point01[i])\n",
    "    answer2.append(point02[i])\n",
    "print(answer1)\n",
    "print(answer2)"
   ]
  },
  {
   "cell_type": "code",
   "execution_count": 28,
   "metadata": {},
   "outputs": [],
   "source": [
    "answer1.append(m.degrees(radA1))\n",
    "answer1.append(m.degrees(radC1))\n",
    "answer2.append(m.degrees(radA2))\n",
    "answer2.append(m.degrees(radC2))"
   ]
  },
  {
   "cell_type": "code",
   "execution_count": 29,
   "metadata": {},
   "outputs": [
    {
     "data": {
      "text/plain": [
       "[-27.4966841809841,\n",
       " -14.7001754505016,\n",
       " 40.0944956849385,\n",
       " 30.894262079393815,\n",
       " 158.19859051364818]"
      ]
     },
     "execution_count": 29,
     "metadata": {},
     "output_type": "execute_result"
    }
   ],
   "source": [
    "answer1"
   ]
  },
  {
   "cell_type": "code",
   "execution_count": 30,
   "metadata": {},
   "outputs": [
    {
     "data": {
      "text/plain": [
       "[37.4966841809841,\n",
       " 33.2813387537120,\n",
       " 45.2290488654632,\n",
       " -30.894262079393815,\n",
       " -21.80140948635181]"
      ]
     },
     "execution_count": 30,
     "metadata": {},
     "output_type": "execute_result"
    }
   ],
   "source": [
    "answer2"
   ]
  },
  {
   "cell_type": "code",
   "execution_count": null,
   "metadata": {},
   "outputs": [],
   "source": []
  }
 ],
 "metadata": {
  "colab": {
   "name": "tatc01.ipynb",
   "provenance": []
  },
  "kernelspec": {
   "display_name": "Python 3",
   "language": "python",
   "name": "python3"
  },
  "language_info": {
   "codemirror_mode": {
    "name": "ipython",
    "version": 3
   },
   "file_extension": ".py",
   "mimetype": "text/x-python",
   "name": "python",
   "nbconvert_exporter": "python",
   "pygments_lexer": "ipython3",
   "version": "3.7.3"
  }
 },
 "nbformat": 4,
 "nbformat_minor": 1
}
